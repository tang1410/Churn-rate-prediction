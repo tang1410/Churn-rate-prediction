{
 "cells": [
  {
   "cell_type": "markdown",
   "id": "fdf63ee4",
   "metadata": {},
   "source": [
    "### Import libraries and a file"
   ]
  },
  {
   "cell_type": "code",
   "execution_count": 1,
   "id": "2fc48b63",
   "metadata": {},
   "outputs": [],
   "source": [
    "import pandas as pd\n",
    "import numpy as np\n",
    "import time\n",
    "import math\n",
    "from sklearn.metrics import roc_curve, roc_auc_score, confusion_matrix\n",
    "import matplotlib.pyplot as plt\n",
    "import seaborn as sns\n",
    "\n",
    "df = pd.read_csv(\"C:/Users/User/Downloads/WA_Fn-UseC_-Telco-Customer-Churn.csv\")\n",
    "df = df.drop(['customerID'], axis = 1)"
   ]
  },
  {
   "cell_type": "markdown",
   "id": "15a2c9a7",
   "metadata": {},
   "source": [
    "### Encode category data"
   ]
  },
  {
   "cell_type": "code",
   "execution_count": 2,
   "id": "6a5963b3",
   "metadata": {},
   "outputs": [],
   "source": [
    "# Create a function to identify categorical columns\n",
    "cols = df.columns.tolist()\n",
    "isCat = []\n",
    "\n",
    "def categorize(x):\n",
    "    if df[col].dtype == 'category':\n",
    "        catCount = df[col].unique().value_counts().sum()\n",
    "        if catCount < 10:\n",
    "            result = 1\n",
    "        else:\n",
    "            result = 0\n",
    "        return result\n",
    "    elif df[col].dtype == 'object':\n",
    "        df[col] = df[col].astype('category')\n",
    "        catCount = df[col].astype('category').unique().value_counts().sum()\n",
    "        if catCount < 6:\n",
    "            result = 1\n",
    "        else:\n",
    "            df[col] = df[col].cat.codes.astype(int)\n",
    "            df[col] = df[col].astype(float)\n",
    "            result = 0\n",
    "        return result\n",
    "    else:\n",
    "        result = 0\n",
    "        return result\n",
    "    \n",
    "# Create a list for categorical and non-categorical columns\n",
    "for col in cols:\n",
    "    cat_result = categorize(df[col])\n",
    "    isCat.append(cat_result)\n",
    "    \n",
    "data = {'col':cols, 'categorical':isCat}\n",
    "df_cat = pd.DataFrame(data)\n",
    "\n",
    "# Create a list for categorical columns\n",
    "catCols = df_cat[df_cat['categorical'] == 1]\n",
    "col_to_dummies = catCols['col'].unique().tolist()\n",
    "df = pd.get_dummies(df, columns = col_to_dummies, drop_first = True, prefix = col_to_dummies)"
   ]
  },
  {
   "cell_type": "markdown",
   "id": "1351f9c8",
   "metadata": {},
   "source": [
    "### Quick assess performance of each model"
   ]
  },
  {
   "cell_type": "code",
   "execution_count": 3,
   "id": "b780c2cd",
   "metadata": {},
   "outputs": [],
   "source": [
    "# Assess models\n",
    "from sklearn.ensemble import RandomForestClassifier\n",
    "from sklearn.tree import DecisionTreeClassifier\n",
    "from sklearn.svm import SVC\n",
    "from sklearn.linear_model import LogisticRegression\n",
    "from sklearn.model_selection import train_test_split, GridSearchCV\n",
    "import xgboost as xgb\n",
    "from sklearn import metrics\n",
    "\n",
    "lr = LogisticRegression()\n",
    "rfc = RandomForestClassifier()\n",
    "dtc = DecisionTreeClassifier()\n",
    "xgbc = xgb.XGBClassifier()\n",
    "svc = SVC(probability = True)\n",
    "models = [lr,rfc,dtc,xgbc,svc]\n",
    "\n",
    "X = df.drop(['Churn_Yes'], axis = 1)\n",
    "y = df['Churn_Yes']\n",
    "X_train, X_test, y_train, y_test = train_test_split(X, y, random_state=123)"
   ]
  },
  {
   "cell_type": "code",
   "execution_count": 4,
   "id": "650d6fe8",
   "metadata": {},
   "outputs": [
    {
     "name": "stderr",
     "output_type": "stream",
     "text": [
      "C:\\Users\\User\\anaconda3\\lib\\site-packages\\sklearn\\linear_model\\_logistic.py:814: ConvergenceWarning: lbfgs failed to converge (status=1):\n",
      "STOP: TOTAL NO. of ITERATIONS REACHED LIMIT.\n",
      "\n",
      "Increase the number of iterations (max_iter) or scale the data as shown in:\n",
      "    https://scikit-learn.org/stable/modules/preprocessing.html\n",
      "Please also refer to the documentation for alternative solver options:\n",
      "    https://scikit-learn.org/stable/modules/linear_model.html#logistic-regression\n",
      "  n_iter_i = _check_optimize_result(\n"
     ]
    },
    {
     "name": "stdout",
     "output_type": "stream",
     "text": [
      "LogisticRegression() :\n",
      "recall: 0.52\n",
      "auc: 0.71\n",
      "\n",
      "RandomForestClassifier() :\n",
      "recall: 0.46\n",
      "auc: 0.69\n",
      "\n",
      "DecisionTreeClassifier() :\n",
      "recall: 0.48\n",
      "auc: 0.65\n",
      "\n",
      "XGBClassifier(base_score=None, booster=None, callbacks=None,\n",
      "              colsample_bylevel=None, colsample_bynode=None,\n",
      "              colsample_bytree=None, early_stopping_rounds=None,\n",
      "              enable_categorical=False, eval_metric=None, feature_types=None,\n",
      "              gamma=None, gpu_id=None, grow_policy=None, importance_type=None,\n",
      "              interaction_constraints=None, learning_rate=None, max_bin=None,\n",
      "              max_cat_threshold=None, max_cat_to_onehot=None,\n",
      "              max_delta_step=None, max_depth=None, max_leaves=None,\n",
      "              min_child_weight=None, missing=nan, monotone_constraints=None,\n",
      "              n_estimators=100, n_jobs=None, num_parallel_tree=None,\n",
      "              predictor=None, random_state=None, ...) :\n",
      "recall: 0.5\n",
      "auc: 0.69\n",
      "\n",
      "SVC(probability=True) :\n",
      "recall: 0.0\n",
      "auc: 0.5\n",
      "\n"
     ]
    }
   ],
   "source": [
    "for model in models:\n",
    "    model.fit(X_train, y_train)\n",
    "    y_pred = model.predict(X_test)\n",
    "    print(model,\":\")\n",
    "    auc = metrics.roc_auc_score(y_test, y_pred)\n",
    "    recall = metrics.recall_score(y_test, y_pred)\n",
    "    print(f\"recall: {round(recall,2)}\\nauc: {round(auc,2)}\\n\")"
   ]
  },
  {
   "cell_type": "markdown",
   "id": "1b3b0593",
   "metadata": {},
   "source": [
    "### Train a model with xgboost and rank feature importance"
   ]
  },
  {
   "cell_type": "code",
   "execution_count": 5,
   "id": "368c38b8",
   "metadata": {},
   "outputs": [
    {
     "name": "stdout",
     "output_type": "stream",
     "text": [
      "\u001b[1mFeature importance\n",
      "\u001b[0mInternetService_Fiber optic: 0.3659999966621399\n",
      "\u001b[0mContract_Two year: 0.17499999701976776\n",
      "\u001b[0mContract_One year: 0.09009999781847\n",
      "\u001b[0mInternetService_No: 0.08820000290870667\n",
      "\u001b[0mtenure: 0.03180000185966492\n",
      "\u001b[0mStreamingMovies_Yes: 0.022600000724196434\n",
      "\u001b[0mOnlineSecurity_Yes: 0.0210999995470047\n",
      "\u001b[0mMultipleLines_Yes: 0.017899999395012856\n",
      "\u001b[0mSeniorCitizen: 0.016899999231100082\n",
      "\u001b[0mPaymentMethod_Electronic check: 0.015699999406933784\n",
      "\u001b[0mPaperlessBilling_Yes: 0.014700000174343586\n",
      "\u001b[0mTechSupport_Yes: 0.014600000344216824\n",
      "\u001b[0mMonthlyCharges: 0.012799999676644802\n",
      "\u001b[0mStreamingTV_Yes: 0.012600000016391277\n",
      "\u001b[0mPhoneService_Yes: 0.012400000356137753\n",
      "\u001b[0mTotalCharges: 0.012299999594688416\n",
      "\u001b[0mOnlineBackup_Yes: 0.011599999852478504\n",
      "\u001b[0mDependents_Yes: 0.011599999852478504\n",
      "\u001b[0mPaymentMethod_Mailed check: 0.01140000019222498\n",
      "\u001b[0mgender_Male: 0.01119999960064888\n",
      "\u001b[0mDeviceProtection_Yes: 0.010999999940395355\n",
      "\u001b[0mPaymentMethod_Credit card (automatic): 0.009999999776482582\n",
      "\u001b[0mPartner_Yes: 0.008500000461935997\n",
      "\u001b[0mMultipleLines_No phone service: 0.0\n",
      "\u001b[0mOnlineSecurity_No internet service: 0.0\n",
      "\u001b[0mOnlineBackup_No internet service: 0.0\n",
      "\u001b[0mDeviceProtection_No internet service: 0.0\n",
      "\u001b[0mTechSupport_No internet service: 0.0\n",
      "\u001b[0mStreamingTV_No internet service: 0.0\n",
      "\u001b[0mStreamingMovies_No internet service: 0.0\n",
      "\n",
      "Total number of features: 30\n"
     ]
    }
   ],
   "source": [
    "xgbc.fit(X_train, y_train)\n",
    "\n",
    "y_pred = xgbc.predict(X_test)\n",
    "\n",
    "# Get feature importances and sort them in descending order\n",
    "importances = list(xgbc.feature_importances_)\n",
    "feature_importances = [(feature, round(importance, 8)) for feature, importance in zip(X.columns, importances)]\n",
    "feature_importances = sorted(feature_importances, key=lambda x: x[1], reverse=True)\n",
    "# Create a list for feature importances\n",
    "imp_list = []\n",
    "imp_value = []\n",
    "print('\\033[1m' + 'Feature importance')\n",
    "\n",
    "# Print out feature importances in descending order\n",
    "for feature, importance in feature_importances:\n",
    "    print('\\033[0m' + f'{feature}: {round(importance,4)}')\n",
    "    imp_list.append(feature)\n",
    "    imp_value.append(importance)\n",
    "\n",
    "print('\\nTotal number of features:',len(imp_list))"
   ]
  },
  {
   "cell_type": "markdown",
   "id": "25e5de55",
   "metadata": {},
   "source": [
    "### Choose only important features to train a model and tune hyperameter"
   ]
  },
  {
   "cell_type": "code",
   "execution_count": 6,
   "id": "cd12761f",
   "metadata": {},
   "outputs": [
    {
     "name": "stdout",
     "output_type": "stream",
     "text": [
      "Model training starts at 14:57:15\n",
      "recall: 0.76\n",
      "auc: 0.76\n",
      "\n",
      "              precision    recall  f1-score   support\n",
      "\n",
      "           0       0.89      0.77      0.82      1262\n",
      "           1       0.56      0.76      0.65       499\n",
      "\n",
      "    accuracy                           0.76      1761\n",
      "   macro avg       0.73      0.76      0.73      1761\n",
      "weighted avg       0.80      0.76      0.77      1761\n",
      "\n",
      "Model training ends at: 15:27:12\n",
      "Total runtime (Model training): 0 hours 29 minutes 57 seconds\n"
     ]
    }
   ],
   "source": [
    "from datetime import datetime\n",
    "\n",
    "start_time = datetime.now().strftime(\"%H:%M:%S\")\n",
    "start_runtime = time.time()\n",
    "print('Model training starts at', start_time)\n",
    "\n",
    "imp = imp_list[:18]\n",
    "imp_value = imp_value[:18]\n",
    "X = X[imp]\n",
    "X_train, X_test, y_train, y_test = train_test_split(X, y, random_state=123)\n",
    "\n",
    "params = {\n",
    "    'n_estimators': [100, 200, 500, 1000],\n",
    "    'learning_rate': [0.05, 0.1, 0.5, 1],\n",
    "    'max_depth': [3, 5, 7, 10],\n",
    "    'reg_alpha': [0.5, 1, 1.5, 2],\n",
    "    'reg_lambda': [0.5, 1, 1.5, 2],\n",
    "}\n",
    "\n",
    "# Perform grid search cross-validation to find the best hyperparameters\n",
    "grid_search = GridSearchCV(estimator=xgbc, param_grid=params, cv=5, n_jobs=-1)\n",
    "grid_search.fit(X_train, y_train)\n",
    "\n",
    "# Get best parameters and score\n",
    "best_params = grid_search.best_params_\n",
    "best_score = grid_search.best_score_\n",
    "# Best Parameters: {'learning_rate': 0.05, 'max_depth': 5, 'n_estimators': 500, 'reg_alpha': 0.5, 'reg_lambda': 1.5}\n",
    "\n",
    "# Train the XGBoost model with best parameters\n",
    "xgbc_best = xgb.XGBClassifier(learning_rate=best_params['learning_rate'],\n",
    "                              max_depth=best_params['max_depth'],\n",
    "                              n_estimators=best_params['n_estimators'])\n",
    "\n",
    "# Fit the XGBoost model on training data\n",
    "xgbc_best.fit(X_train, y_train)\n",
    "\n",
    "# Predict on test data\n",
    "y_pred = xgbc_best.predict_proba(X_test)\n",
    "threshold = 0.3\n",
    "\n",
    "# Adjust the threshold and convert probabilities to class labels\n",
    "y_pred = np.where(y_pred[:, 1] > threshold, 1, 0)\n",
    "\n",
    "auc = metrics.roc_auc_score(y_test, y_pred)\n",
    "recall = metrics.recall_score(y_test, y_pred)\n",
    "print(f\"recall: {round(recall,2)}\\nauc: {round(auc,2)}\\n\")\n",
    "print(metrics.classification_report(y_test, y_pred, target_names=[str(i) for i in np.unique(y_test)]))\n",
    "\n",
    "end_time = datetime.now().strftime(\"%H:%M:%S\")\n",
    "end_runtime = time.time()\n",
    "print('Model training ends at:', end_time)\n",
    "runtime = end_runtime - start_runtime\n",
    "print(f\"Total runtime (Model training): \\\n",
    "{math.floor(runtime/60/60)} hours {round(runtime//60%60)} minutes {round(runtime - runtime//60*60)} seconds\")"
   ]
  },
  {
   "cell_type": "markdown",
   "id": "3fa109a3",
   "metadata": {},
   "source": [
    "### Evaluate result"
   ]
  },
  {
   "cell_type": "code",
   "execution_count": 7,
   "id": "d8148267",
   "metadata": {},
   "outputs": [
    {
     "data": {
      "image/png": "[encoded data removed]",
      "text/plain": [
       "<Figure size 640x480 with 2 Axes>"
      ]
     },
     "metadata": {},
     "output_type": "display_data"
    }
   ],
   "source": [
    "# Create confusion matrix\n",
    "cm = confusion_matrix(y_test, y_pred)\n",
    "\n",
    "# Plot confusion matrix using seaborn\n",
    "sns.heatmap(cm, annot=True, cmap='Blues', fmt='d')\n",
    "\n",
    "# Add labels, title, and ticks\n",
    "plt.xlabel('Predicted')\n",
    "plt.ylabel('Actual')\n",
    "plt.title('Confusion Matrix')\n",
    "\n",
    "# Show the plot\n",
    "plt.show()"
   ]
  },
  {
   "cell_type": "code",
   "execution_count": 8,
   "id": "9a7f1efa",
   "metadata": {},
   "outputs": [
    {
     "data": {
      "image/png": "[encoded data removed]",
      "text/plain": [
       "<Figure size 640x480 with 1 Axes>"
      ]
     },
     "metadata": {},
     "output_type": "display_data"
    }
   ],
   "source": [
    "fpr, tpr, thresholds = roc_curve(y_test, y_pred)\n",
    "auc = roc_auc_score(y_test, y_pred)\n",
    "\n",
    "# Plot the ROC curve\n",
    "plt.plot(fpr, tpr, label='ROC curve (AUC = {:.2f})'.format(auc))\n",
    "plt.plot([0, 1], [0, 1], 'k--')  # Random guessing line\n",
    "plt.xlabel('False Positive Rate')\n",
    "plt.ylabel('True Positive Rate')\n",
    "plt.title('Receiver Operating Characteristic (ROC) Curve')\n",
    "plt.legend(loc='lower right')\n",
    "plt.show()"
   ]
  },
  {
   "cell_type": "markdown",
   "id": "4691102a",
   "metadata": {},
   "source": [
    "### Even though adjusting threshold can significantly improve precision and recall, the cost of losing one is too high. Hence, I decide to balance them, so we can save fairly amount of those potential churn at acceptable cost."
   ]
  },
  {
   "cell_type": "code",
   "execution_count": null,
   "id": "931d7ee4",
   "metadata": {},
   "outputs": [],
   "source": []
  }
 ],
 "metadata": {
  "kernelspec": {
   "display_name": "Python 3 (ipykernel)",
   "language": "python",
   "name": "python3"
  },
  "language_info": {
   "codemirror_mode": {
    "name": "ipython",
    "version": 3
   },
   "file_extension": ".py",
   "mimetype": "text/x-python",
   "name": "python",
   "nbconvert_exporter": "python",
   "pygments_lexer": "ipython3",
   "version": "3.9.13"
  }
 },
 "nbformat": 4,
 "nbformat_minor": 5
}
